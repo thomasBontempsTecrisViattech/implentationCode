{
 "cells": [
  {
   "cell_type": "markdown",
   "metadata": {},
   "source": [
    "# Import"
   ]
  },
  {
   "cell_type": "code",
   "execution_count": 43,
   "metadata": {},
   "outputs": [],
   "source": [
    "import json\n",
    "\n",
    "from dotenv import load_dotenv\n",
    "from openai import OpenAI\n",
    "from variable import FOLDER_RESUME, FOLDER_JSON_SCHEMA, FOLDER_TXT"
   ]
  },
  {
   "cell_type": "markdown",
   "metadata": {},
   "source": [
    "# API OpenAI"
   ]
  },
  {
   "cell_type": "markdown",
   "metadata": {},
   "source": [
    "## Créer un client"
   ]
  },
  {
   "cell_type": "code",
   "execution_count": null,
   "metadata": {},
   "outputs": [],
   "source": [
    "load_dotenv() # Permet de charger les données sensibles présentes dans le fichier .env tel que l'API key de OpenAI\n",
    "client = OpenAI() # Permet de se connecter à son client"
   ]
  },
  {
   "cell_type": "markdown",
   "metadata": {},
   "source": [
    "## Charger un fichier dans OpenAI"
   ]
  },
  {
   "cell_type": "code",
   "execution_count": 44,
   "metadata": {},
   "outputs": [
    {
     "data": {
      "text/plain": [
       "FileObject(id='file-W2qQ49ujkpxTkjWbGyuUZcqv', bytes=4413, created_at=1708422991, filename='cv_format_texte_example.txt', object='file', purpose='assistants', status='processed', status_details=None)"
      ]
     },
     "execution_count": 44,
     "metadata": {},
     "output_type": "execute_result"
    }
   ],
   "source": [
    "\n",
    "file = client.files.create(\n",
    "  file=open(FOLDER_TXT + '/' + \"cv_format_texte_example.txt\", \"rb\"),\n",
    "  purpose='assistants'\n",
    ")\n",
    "file"
   ]
  },
  {
   "cell_type": "markdown",
   "metadata": {},
   "source": [
    "## Format type d'un prompt"
   ]
  },
  {
   "cell_type": "code",
   "execution_count": 86,
   "metadata": {},
   "outputs": [
    {
     "data": {
      "text/plain": [
       "'\\nYou are great to extract informations from resume.\\nRules:\\n    1) Use the JSON schema as directive\\n    2) Only use information that you find in the document provided\\n    3) Make sure to include all the properties mentioned\\n    4) Recreate answers with only informations wanted\\n    5) You will redecompose the resume in distinct part to extract\\n    6) Use paragraph to extract most precise information or context\\n    7) Process multiple choice as answer, create a list of answers\\n    8) If multiple response, try to find one more\\n    9) Always finish with the json file\\n\\nResponse format:\\n    1) No accent at all\\n    2) Consistence phrase\\n    3) JSON format\\n    4) Always finish with } symbol\\n    \\n\\nOutput result in JSON object to be equivalent at the JSON schema.\\n'"
      ]
     },
     "execution_count": 86,
     "metadata": {},
     "output_type": "execute_result"
    }
   ],
   "source": [
    "instructions = \"\"\"\n",
    "You are great to extract informations from resume.\n",
    "Rules:\n",
    "    1) Use the JSON schema as directive\n",
    "    2) Only use information that you find in the document provided\n",
    "    3) Make sure to include all the properties mentioned\n",
    "    4) Recreate answers with only informations wanted\n",
    "    5) You will redecompose the resume in distinct part to extract\n",
    "    6) Use paragraph to extract most precise information or context\n",
    "    7) Process multiple choice as answer, create a list of answers\n",
    "    8) If multiple response, try to find one more\n",
    "    9) Always finish with the json file\n",
    "\n",
    "Response format:\n",
    "    1) No accent at all\n",
    "    2) Consistence phrase\n",
    "    3) JSON format\n",
    "    4) Always finish with } symbol\n",
    "    \n",
    "\n",
    "Output result in JSON object to be equivalent at the JSON schema.\n",
    "\"\"\"\n",
    "instructions"
   ]
  },
  {
   "cell_type": "markdown",
   "metadata": {},
   "source": [
    "## Création de l'assistant"
   ]
  },
  {
   "cell_type": "code",
   "execution_count": 87,
   "metadata": {},
   "outputs": [
    {
     "data": {
      "text/plain": [
       "Assistant(id='asst_n0W7oB6YhyO5kvA8Oa3u8Sm2', created_at=1708423441, description=None, file_ids=['file-W2qQ49ujkpxTkjWbGyuUZcqv'], instructions='\\nYou are great to extract informations from resume.\\nRules:\\n    1) Use the JSON schema as directive\\n    2) Only use information that you find in the document provided\\n    3) Make sure to include all the properties mentioned\\n    4) Recreate answers with only informations wanted\\n    5) You will redecompose the resume in distinct part to extract\\n    6) Use paragraph to extract most precise information or context\\n    7) Process multiple choice as answer, create a list of answers\\n    8) If multiple response, try to find one more\\n    9) Always finish with the json file\\n\\nResponse format:\\n    1) No accent at all\\n    2) Consistence phrase\\n    3) JSON format\\n    4) Always finish with } symbol\\n    \\n\\nOutput result in JSON object to be equivalent at the JSON schema.\\n', metadata={}, model='gpt-3.5-turbo', name='jsonParser', object='assistant', tools=[ToolRetrieval(type='retrieval')])"
      ]
     },
     "execution_count": 87,
     "metadata": {},
     "output_type": "execute_result"
    }
   ],
   "source": [
    "assistant = client.beta.assistants.create(\n",
    "  name=\"jsonParser\", # Nom de l'assistant, visualisable sur OpenAI dans la section Assistants\n",
    "  instructions=instructions, # Instruction précédente permettant au robot de comprendre sa tâche\n",
    "  model=\"gpt-3.5-turbo\", # Nom du modèle utilisé\n",
    "  tools=[{\"type\": \"retrieval\"}], # L'outil 'retrieval' permet d'imposer à l'IA de lire dans le(s) fichier(s) pour trouver l'information de la réponse\n",
    "  file_ids=[file.id] # Permet de préciser tous les fichiers à utiliser\n",
    ")\n",
    "assistant"
   ]
  },
  {
   "cell_type": "markdown",
   "metadata": {},
   "source": [
    "## Création de la question de l'utilisateur"
   ]
  },
  {
   "cell_type": "code",
   "execution_count": 95,
   "metadata": {},
   "outputs": [
    {
     "data": {
      "text/plain": [
       "'Extract information from the file to obtain the JSON schema as follow : \\n{\\'name\\': \\'personal_information\\', \\'description\\': \\'Informations personal about the person in the resume. It will contain the firstname, lastname, age, living address and the role desired by the person\\', \\'type\\': \\'object\\', \\'properties\\': {\\'personal_information\\': {\\'type\\': \\'object\\', \\'description\\': \\'All personnal information about the person\\', \\'properties\\': {\\'firstname\\': {\\'type\\': \\'string\\', \\'title\\': \\'First name\\', \\'description\\': \"The person\\'s first name\"}, \\'lastname\\': {\\'type\\': \\'string\\', \\'title\\': \\'Last name\\', \\'description\\': \"The person\\'s last name\"}, \\'age\\': {\\'type\\': \\'string\\', \\'description\\': \\'Age in years of the person which must be equal to or greather than zero\\'}, \\'address\\': {\\'type\\': \\'string\\', \\'description\\': \\'Adresse of the person in real life which must be precise by the country\\'}, \\'role\\': {\\'type\\': \\'string\\', \\'description\\': \\'Role desired by the person\\'}}}}}\\n\\nOnly the json.'"
      ]
     },
     "execution_count": 95,
     "metadata": {},
     "output_type": "execute_result"
    }
   ],
   "source": [
    "content = \"Extract information from the file to obtain the JSON schema as follow : \\n{json_schema}\\n\\nOnly the json.\"\n",
    "json_schema = json.load(open(FOLDER_JSON_SCHEMA + '/jsonSchema_personalInformation.json', 'r'))\n",
    "content = content.format(json_schema=json_schema)\n",
    "content"
   ]
  },
  {
   "cell_type": "markdown",
   "metadata": {},
   "source": [
    "## Création d'un thread afin de comprendre quel conversation suivre"
   ]
  },
  {
   "cell_type": "markdown",
   "metadata": {},
   "source": [
    "Cela permet de paralléliser les tâches d'un même besoin (par exemple ici le fichier) afin de préparer l'ensemble des requêtes et obtenir \n",
    "toutes les réponses en une seule fois.  \n",
    "Il n'y a pas besoin de créer plusieurs threads pour un même document dans l'exemple suivant. "
   ]
  },
  {
   "cell_type": "code",
   "execution_count": 96,
   "metadata": {},
   "outputs": [
    {
     "data": {
      "text/plain": [
       "Thread(id='thread_Hm5fi0K8m6xmAE8HJuIKKMlb', created_at=1708423506, metadata={}, object='thread', tool_resources=[])"
      ]
     },
     "execution_count": 96,
     "metadata": {},
     "output_type": "execute_result"
    }
   ],
   "source": [
    "thread = client.beta.threads.create()\n",
    "thread"
   ]
  },
  {
   "cell_type": "markdown",
   "metadata": {},
   "source": [
    "## Création du message envoyé à l'assistant"
   ]
  },
  {
   "cell_type": "code",
   "execution_count": 97,
   "metadata": {},
   "outputs": [
    {
     "data": {
      "text/plain": [
       "ThreadMessage(id='msg_xzblxKjuMnPDZ6kcGuJL3U8w', assistant_id=None, content=[MessageContentText(text=Text(annotations=[], value='Extract information from the file to obtain the JSON schema as follow : \\n{\\'name\\': \\'personal_information\\', \\'description\\': \\'Informations personal about the person in the resume. It will contain the firstname, lastname, age, living address and the role desired by the person\\', \\'type\\': \\'object\\', \\'properties\\': {\\'personal_information\\': {\\'type\\': \\'object\\', \\'description\\': \\'All personnal information about the person\\', \\'properties\\': {\\'firstname\\': {\\'type\\': \\'string\\', \\'title\\': \\'First name\\', \\'description\\': \"The person\\'s first name\"}, \\'lastname\\': {\\'type\\': \\'string\\', \\'title\\': \\'Last name\\', \\'description\\': \"The person\\'s last name\"}, \\'age\\': {\\'type\\': \\'string\\', \\'description\\': \\'Age in years of the person which must be equal to or greather than zero\\'}, \\'address\\': {\\'type\\': \\'string\\', \\'description\\': \\'Adresse of the person in real life which must be precise by the country\\'}, \\'role\\': {\\'type\\': \\'string\\', \\'description\\': \\'Role desired by the person\\'}}}}}\\n\\nOnly the json.'), type='text')], created_at=1708423506, file_ids=[], metadata={}, object='thread.message', role='user', run_id=None, thread_id='thread_Hm5fi0K8m6xmAE8HJuIKKMlb')"
      ]
     },
     "execution_count": 97,
     "metadata": {},
     "output_type": "execute_result"
    }
   ],
   "source": [
    "message = client.beta.threads.messages.create(\n",
    "  thread_id = thread.id, # ID du thread précédent\n",
    "  role = 'user', # Role correspond \n",
    "  content = content # Message du rôle\n",
    ")\n",
    "message"
   ]
  },
  {
   "cell_type": "markdown",
   "metadata": {},
   "source": [
    "## Création d'une instance de déploiement"
   ]
  },
  {
   "cell_type": "code",
   "execution_count": 98,
   "metadata": {},
   "outputs": [
    {
     "data": {
      "text/plain": [
       "Run(id='run_va0ZaH0WpNXi205IIt8GZMbq', assistant_id='asst_n0W7oB6YhyO5kvA8Oa3u8Sm2', cancelled_at=None, completed_at=None, created_at=1708423507, expires_at=1708424107, failed_at=None, file_ids=['file-W2qQ49ujkpxTkjWbGyuUZcqv'], instructions='\\nYou are great to extract informations from resume.\\nRules:\\n    1) Use the JSON schema as directive\\n    2) Only use information that you find in the document provided\\n    3) Make sure to include all the properties mentioned\\n    4) Recreate answers with only informations wanted\\n    5) You will redecompose the resume in distinct part to extract\\n    6) Use paragraph to extract most precise information or context\\n    7) Process multiple choice as answer, create a list of answers\\n    8) If multiple response, try to find one more\\n    9) Always finish with the json file\\n\\nResponse format:\\n    1) No accent at all\\n    2) Consistence phrase\\n    3) JSON format\\n    4) Always finish with } symbol\\n    \\n\\nOutput result in JSON object to be equivalent at the JSON schema.\\n', last_error=None, metadata={}, model='gpt-3.5-turbo', object='thread.run', required_action=None, started_at=None, status='queued', thread_id='thread_Hm5fi0K8m6xmAE8HJuIKKMlb', tools=[ToolAssistantToolsRetrieval(type='retrieval')], usage=None)"
      ]
     },
     "execution_count": 98,
     "metadata": {},
     "output_type": "execute_result"
    }
   ],
   "source": [
    "run = client.beta.threads.runs.create(\n",
    "  thread_id = thread.id, # Toujours le même thread\n",
    "  assistant_id = assistant.id # ID de l'assistant pour traiter du thread\n",
    ")\n",
    "run"
   ]
  },
  {
   "cell_type": "markdown",
   "metadata": {},
   "source": [
    "## Permet de lire la réponse du système"
   ]
  },
  {
   "cell_type": "code",
   "execution_count": 100,
   "metadata": {},
   "outputs": [
    {
     "name": "stdout",
     "output_type": "stream",
     "text": [
      "user:  Extract information from the file to obtain the JSON schema as follow : \n",
      "{'name': 'personal_information', 'description': 'Informations personal about the person in the resume. It will contain the firstname, lastname, age, living address and the role desired by the person', 'type': 'object', 'properties': {'personal_information': {'type': 'object', 'description': 'All personnal information about the person', 'properties': {'firstname': {'type': 'string', 'title': 'First name', 'description': \"The person's first name\"}, 'lastname': {'type': 'string', 'title': 'Last name', 'description': \"The person's last name\"}, 'age': {'type': 'string', 'description': 'Age in years of the person which must be equal to or greather than zero'}, 'address': {'type': 'string', 'description': 'Adresse of the person in real life which must be precise by the country'}, 'role': {'type': 'string', 'description': 'Role desired by the person'}}}}}\n",
      "\n",
      "Only the json. \n",
      "\n",
      "\n",
      "assistant:  {\n",
      "  \"personal_information\": {\n",
      "    \"firstname\": \"Laurene\",\n",
      "    \"lastname\": \"Armer\",\n",
      "    \"age\": \"not specified\",\n",
      "    \"address\": \"not specified\",\n",
      "    \"role\": \"Ingenieur Surete de Fonctionnement des Lanceurs\"\n",
      "  }\n",
      "} \n",
      "\n",
      "\n"
     ]
    }
   ],
   "source": [
    "run = client.beta.threads.runs.retrieve( # Retrouver la réponse\n",
    "  thread_id = thread.id,\n",
    "  run_id = run.id\n",
    ")\n",
    "\n",
    "messages = client.beta.threads.messages.list( # Stocker l'information sous forme de liste de message\n",
    "  thread_id = thread.id\n",
    ")\n",
    "\n",
    "for message in reversed(messages.data):\n",
    "  print(message.role + \": \", message.content[0].text.value, \"\\n\\n\") # afficher les messages"
   ]
  },
  {
   "cell_type": "code",
   "execution_count": 101,
   "metadata": {},
   "outputs": [],
   "source": [
    "content = \"Extract information from the file to obtain the JSON schema as follow : \\n{json_schema}\\n\\nOnly the json.\"\n",
    "json_schema = json.load(open(FOLDER_JSON_SCHEMA + '/jsonSchema_jobs.json', 'r'))\n",
    "content = content.format(json_schema=json_schema)\n",
    "\n",
    "\n",
    "#thread = client.beta.threads.create()\n",
    "\n",
    "message = client.beta.threads.messages.create(\n",
    "  thread_id = thread.id,\n",
    "  role = 'user',\n",
    "  content = content\n",
    ")\n",
    "\n",
    "run = client.beta.threads.runs.create(\n",
    "  thread_id = thread.id,\n",
    "  assistant_id = assistant.id\n",
    ")"
   ]
  },
  {
   "cell_type": "code",
   "execution_count": 102,
   "metadata": {},
   "outputs": [
    {
     "name": "stdout",
     "output_type": "stream",
     "text": [
      "user:  Extract information from the file to obtain the JSON schema as follow : \n",
      "{'name': 'personal_information', 'description': 'Informations personal about the person in the resume. It will contain the firstname, lastname, age, living address and the role desired by the person', 'type': 'object', 'properties': {'personal_information': {'type': 'object', 'description': 'All personnal information about the person', 'properties': {'firstname': {'type': 'string', 'title': 'First name', 'description': \"The person's first name\"}, 'lastname': {'type': 'string', 'title': 'Last name', 'description': \"The person's last name\"}, 'age': {'type': 'string', 'description': 'Age in years of the person which must be equal to or greather than zero'}, 'address': {'type': 'string', 'description': 'Adresse of the person in real life which must be precise by the country'}, 'role': {'type': 'string', 'description': 'Role desired by the person'}}}}}\n",
      "\n",
      "Only the json. \n",
      "\n",
      "\n",
      "assistant:  {\n",
      "  \"personal_information\": {\n",
      "    \"firstname\": \"Laurene\",\n",
      "    \"lastname\": \"Armer\",\n",
      "    \"age\": \"not specified\",\n",
      "    \"address\": \"not specified\",\n",
      "    \"role\": \"Ingenieur Surete de Fonctionnement des Lanceurs\"\n",
      "  }\n",
      "} \n",
      "\n",
      "\n",
      "user:  Extract information from the file to obtain the JSON schema as follow : \n",
      "{'name': 'jobs', 'description': 'List of object about a jobs that the person has been do. For each job, it will be precise by the company name, the role in the company, the title of the mission, the start and end date. If some skills are stated, list them. A skill can be anything related at the person. If more indication is about the job, put it in specification. It will be compose by all jobs in the resume.', 'type': 'object', 'properties': {'jobs': {'type': 'array', 'description': 'List of informations about job', 'items': {'type': 'object', 'description': 'Description about the job', 'properties': {'company_name': {'type': 'string', 'description': 'Name of the company'}, 'person_role': {'type': 'string', 'description': 'Role in the company'}, 'title': {'type': 'string', 'description': 'Goal of the mission job'}, 'start_date': {'type': 'string', 'description': 'Start date in the company with year and month'}, 'end_date': {'type': 'string', 'description': 'End date in the company with year and month, other if currently in the company not precise the end of date'}, 'skills': {'type': 'array', 'description': 'All skills use during the time in the company', 'items': {'type': 'string'}}, 'specification': {'type': 'string', 'description': 'All other specifications or specialities about the job'}}}}}}\n",
      "\n",
      "Only the json. \n",
      "\n",
      "\n",
      "assistant:  {\n",
      "  \"jobs\": [\n",
      "    {\n",
      "      \"company_name\": \"ArianeGroup\",\n",
      "      \"person_role\": \"En alternance\",\n",
      "      \"title\": \"Integration des analyses PSDR avec Excel VBA\",\n",
      "      \"start_date\": \"Sep 2018\",\n",
      "      \"end_date\": \"Jul 2020\",\n",
      "      \"skills\": [\"Excel VBA\"],\n",
      "      \"specification\": \"Poste de travail etudiant en alternance\"\n",
      "    },\n",
      "    {\n",
      "      \"company_name\": \"Orange\",\n",
      "      \"person_role\": \"Stage\",\n",
      "      \"title\": \"Developpement d'un prototype de gestion du transport sur le domaine de la voice et data\",\n",
      "      \"start_date\": \"Jan 2018\",\n",
      "      \"end_date\": \"Jul 2018\",\n",
      "      \"skills\": [\"Realisation de maquettes\", \"System Use Cases\", \"Genie Logiciel\", \"Documentation de projet\"],\n",
      "      \"specification\": \"Developpement d'une application de simulation de transport\"\n",
      "    }\n",
      "  ]\n",
      "} \n",
      "\n",
      "\n"
     ]
    }
   ],
   "source": [
    "run = client.beta.threads.runs.retrieve(\n",
    "  thread_id = thread.id,\n",
    "  run_id = run.id\n",
    ")\n",
    "\n",
    "messages = client.beta.threads.messages.list(\n",
    "  thread_id = thread.id\n",
    ")\n",
    "\n",
    "for message in reversed(messages.data):\n",
    "  print(message.role + \": \", message.content[0].text.value, \"\\n\\n\")"
   ]
  }
 ],
 "metadata": {
  "kernelspec": {
   "display_name": "resumeParser",
   "language": "python",
   "name": "python3"
  },
  "language_info": {
   "codemirror_mode": {
    "name": "ipython",
    "version": 3
   },
   "file_extension": ".py",
   "mimetype": "text/x-python",
   "name": "python",
   "nbconvert_exporter": "python",
   "pygments_lexer": "ipython3",
   "version": "3.9.18"
  }
 },
 "nbformat": 4,
 "nbformat_minor": 2
}
